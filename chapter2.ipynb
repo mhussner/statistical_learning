{
 "cells": [
  {
   "cell_type": "code",
   "execution_count": 3,
   "id": "a33486ee",
   "metadata": {},
   "outputs": [],
   "source": [
    "import os\n",
    "import sys\n",
    "import pandas as pd"
   ]
  },
  {
   "cell_type": "code",
   "execution_count": 5,
   "id": "ad89b973",
   "metadata": {},
   "outputs": [],
   "source": [
    "path = os.path.join(os.path.expanduser('~'), 'statistical_learning')"
   ]
  },
  {
   "cell_type": "code",
   "execution_count": 6,
   "id": "b7d83b7f",
   "metadata": {},
   "outputs": [],
   "source": [
    "file = 'College.csv'\n",
    "df = pd.read_csv(os.path.join(path, file))"
   ]
  }
 ],
 "metadata": {
  "kernelspec": {
   "display_name": "Python 3 (ipykernel)",
   "language": "python",
   "name": "python3"
  },
  "language_info": {
   "codemirror_mode": {
    "name": "ipython",
    "version": 3
   },
   "file_extension": ".py",
   "mimetype": "text/x-python",
   "name": "python",
   "nbconvert_exporter": "python",
   "pygments_lexer": "ipython3",
   "version": "3.10.12"
  }
 },
 "nbformat": 4,
 "nbformat_minor": 5
}
